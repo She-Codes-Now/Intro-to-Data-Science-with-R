{
 "cells": [
  {
   "cell_type": "markdown",
   "metadata": {
    "_cell_guid": "0926f356-6bbe-4248-99aa-baa691d220ea",
    "_uuid": "6cb0634fab1b2db27213c739e20544e720063ffe"
   },
   "source": [
    "![](https://www.r-project.org/Rlogo.png)\n",
    "\n",
    "____________________________________________________________________________________\n",
    "This tutorial is the second part of a series. If you've never programmed before, I recommend checking out the \"[First Steps](https://www.kaggle.com/rtatman/getting-started-in-r-first-steps/)\" part of the tutorial.\n",
    "\n",
    "In this part of the tutorial, we'll:\n",
    "\n",
    "* read data into R\n",
    "* look at the data we've read in\n",
    "* remove unwanted rows\n",
    "\n",
    "____________________________________________________________________________________\n",
    "\n",
    "\n",
    "### Learning goals:\n",
    "\n",
    "By the end of this tutorial, you will be able to do the following things. (Don't worry if you don't know what all these things are yet; we'll get there together!)\n",
    "\n",
    "* [Be familiar with basic concepts: functions, variables, data types and vectors](https://www.kaggle.com/rtatman/getting-started-in-r-first-steps/)\n",
    "* [Load data into R](https://www.kaggle.com/rtatman/getting-started-in-r-load-data-into-r)\n",
    "* [Summerize your data](https://www.kaggle.com/rtatman/getting-started-in-r-summarize-data)\n",
    "* [Graph data](https://www.kaggle.com/rtatman/getting-started-in-r-graphing-data/)\n",
    "\n",
    "______\n",
    "\n",
    "### Your turn!\n",
    "\n",
    "Throughout this tutorial, you'll have lots of opportunities to practice what you've just learned. Look for the phrase \"your turn!\" to find these exercises."
   ]
  },
  {
   "cell_type": "markdown",
   "metadata": {
    "_cell_guid": "97e50be4-e6db-4701-a978-ddd3fc24a80e",
    "_uuid": "620ded751819b200ca7461814daa1b4fd1403903"
   },
   "source": [
    "## Reading data into R\n"
   ]
  },
  {
   "cell_type": "markdown",
   "metadata": {
    "_cell_guid": "ef9bb176-bf6c-4d19-a353-84f2a28b282e",
    "_uuid": "5a37bd20dc4a6fa1ad95d14d50fbbb8d91772bee"
   },
   "source": [
    "When you read data into R, you need to tell it two things. The first is what type of data structure the data is in. The second is where to find the data.\n",
    "\n",
    "> Data structure: A specfic way of organizing data to store it. There are lots of different types of data structures that you will learn about, including lists and trees. Vectors, which we talked about in the \"First Steps\" part of the tutorial, are a specific data structure.\n",
    "\n",
    "For this tutorial, we're going to use the data_frame data structure (also called a tibble). If you're curious, you can find more information on these [here](https://cran.r-project.org/web/packages/tibble/vignettes/tibble.html). However, this data structure isn't one that comes with base R. To use this data structure, we're going to need to use  a package."
   ]
  },
  {
   "cell_type": "code",
   "execution_count": 1,
   "metadata": {
    "_cell_guid": "14b3f40f-85d5-4ba0-9533-75f65c1e0615",
    "_uuid": "16b25ec029df1bc05f5b3882f9bd92f14a84f970",
    "collapsed": true
   },
   "outputs": [
    {
     "name": "stderr",
     "output_type": "stream",
     "text": [
      "Loading tidyverse: ggplot2\n",
      "Loading tidyverse: tibble\n",
      "Loading tidyverse: tidyr\n",
      "Loading tidyverse: readr\n",
      "Loading tidyverse: purrr\n",
      "Loading tidyverse: dplyr\n",
      "Conflicts with tidy packages ---------------------------------------------------\n",
      "filter(): dplyr, stats\n",
      "lag():    dplyr, stats\n"
     ]
    }
   ],
   "source": [
    "# this line will read in the \"tidyverse\" package. An R package is a collection\n",
    "# of special functions (and sometimes data). Before you use can use the functions in a\n",
    "# package, though, you need to tell R that you want it to use that package using the\n",
    "# library() function.\n",
    "\n",
    "library(tidyverse)"
   ]
  },
  {
   "cell_type": "markdown",
   "metadata": {
    "_cell_guid": "77acb30b-253b-4ab4-af5b-21c130cda200",
    "_uuid": "8203c7c42d0d3656b96beb45934711102687e7c7"
   },
   "source": [
    "Alright, now that we've read in the package we need, we're ready to read in data. We can do this using the read_csv() function (which was in the package we just read in--if you try to use this function without loading the package using library() first, you'll get an error!).\n",
    "\n",
    "Let's read  in our file. This file is a .csv file. \"csv\" stands for \"comma separated values\". You can save any spreadsheet at a .csv file, and that will make it easier to read and analyze later: many file types that you can save spreadsheets as can only be read by one specific program. A .csv can be read by pretty much any program.\n",
    "\n",
    "For this tutorial, we'll be using a dataset of ratings of different chocolate bars. You can learn more about this dataset by clicking on the plus sign (+) next to \"input files\" at the top of the page."
   ]
  },
  {
   "cell_type": "code",
   "execution_count": 2,
   "metadata": {
    "_cell_guid": "6beb2066-bfa5-49ac-8e11-2f3c99df435e",
    "_uuid": "66a7d34d60fcc54bfd8ad7f1826c563ddb08ee4a",
    "collapsed": true
   },
   "outputs": [
    {
     "name": "stderr",
     "output_type": "stream",
     "text": [
      "Parsed with column specification:\n",
      "cols(\n",
      "  `Company \n",
      "(Maker-if known)` = col_character(),\n",
      "  `Specific Bean Origin\n",
      "or Bar Name` = col_character(),\n",
      "  REF = col_character(),\n",
      "  `Review\n",
      "Date` = col_character(),\n",
      "  `Cocoa\n",
      "Percent` = col_character(),\n",
      "  `Company\n",
      "Location` = col_character(),\n",
      "  Rating = col_character(),\n",
      "  `Bean\n",
      "Type` = col_character(),\n",
      "  `Broad Bean\n",
      "Origin` = col_character()\n",
      ")\n"
     ]
    }
   ],
   "source": [
    "# Read our data into R. The argument here is a file path. The \"..\" means \"look at the \n",
    "# folder above this one\", \"input\" is a specific folder, \"chocolate-bar-ratings\" is\n",
    "# a folder wihtin the \"input\" folder, and and \"flavors_of_cacao.csv\" is \n",
    "# the specific file we're reading from inside that file.\n",
    "\n",
    "chocolateData <- read_csv(\"../input/chocolate-bar-ratings/flavors_of_cacao.csv\")\n",
    "\n",
    "# some of our column names have spaces in them. This line changes the column names to \n",
    "# versions without spaces, which let's us talk about the columns by their names.\n",
    "names(chocolateData) <- make.names(names(chocolateData), unique=TRUE)"
   ]
  },
  {
   "cell_type": "code",
   "execution_count": 3,
   "metadata": {
    "_cell_guid": "dca5cba4-5cdd-47bb-adce-3c0c8f6edfad",
    "_uuid": "54aca9c4d0a06f234af0d1e27181505474a323d3",
    "collapsed": true
   },
   "outputs": [],
   "source": [
    "# Your turn!\n",
    "\n",
    "# To give you practice reading in files, I've added a second dataset to this notebook\n",
    "# as well. This dataset is in the following place: ../input/food-choices/food_coded.csv\n",
    "\n",
    "# read in your dataset and save it as a variable called \"foodPreferences\"\n"
   ]
  },
  {
   "cell_type": "markdown",
   "metadata": {
    "_cell_guid": "f5056892-414e-481c-be1e-6c865010a25a",
    "_uuid": "dad981a3709f79829b3a35d47f56f0809ad21b93"
   },
   "source": [
    "## Look at the data we've read in"
   ]
  },
  {
   "cell_type": "markdown",
   "metadata": {
    "_cell_guid": "61b890e9-8de5-4f40-99dd-6284ddc4d195",
    "_uuid": "41c19197dfb5d784e9fa254bc4be1d33ad885c2a",
    "collapsed": true
   },
   "source": [
    "Congrats, you've gotten some data into R! Now we want to make sure that it all read in correctly, and get an idea of what's in our data file."
   ]
  },
  {
   "cell_type": "code",
   "execution_count": 4,
   "metadata": {
    "_cell_guid": "b71e609c-b4de-4358-9d03-26d91bd36178",
    "_uuid": "391c8ff8aea3fb1dfb05be82553f89a99002104f",
    "collapsed": true
   },
   "outputs": [
    {
     "data": {
      "text/html": [
       "<table>\n",
       "<thead><tr><th scope=col>Company...Maker.if.known.</th><th scope=col>Specific.Bean.Origin.or.Bar.Name</th><th scope=col>REF</th><th scope=col>Review.Date</th><th scope=col>Cocoa.Percent</th><th scope=col>Company.Location</th><th scope=col>Rating</th><th scope=col>Bean.Type</th><th scope=col>Broad.Bean.Origin</th></tr></thead>\n",
       "<tbody>\n",
       "\t<tr><td>(Maker-if known)\"                </td><td>Specific Bean Origin\n",
       "or Bar Name</td><td>REF                              </td><td>Review\n",
       "Date                     </td><td>Cocoa\n",
       "Percent                   </td><td>Company\n",
       "Location                </td><td>Rating                           </td><td>Bean\n",
       "Type                       </td><td>Broad Bean\n",
       "Origin               </td></tr>\n",
       "\t<tr><td>A. Morin                         </td><td>Agua Grande                      </td><td>1876                             </td><td>2016                             </td><td>63%                              </td><td>France                           </td><td>3.75                             </td><td>                                 </td><td>Sao Tome                         </td></tr>\n",
       "\t<tr><td>A. Morin                         </td><td>Kpime                            </td><td>1676                             </td><td>2015                             </td><td>70%                              </td><td>France                           </td><td>2.75                             </td><td>                                 </td><td>Togo                             </td></tr>\n",
       "\t<tr><td>A. Morin                         </td><td>Atsane                           </td><td>1676                             </td><td>2015                             </td><td>70%                              </td><td>France                           </td><td>3                                </td><td>                                 </td><td>Togo                             </td></tr>\n",
       "\t<tr><td>A. Morin                         </td><td>Akata                            </td><td>1680                             </td><td>2015                             </td><td>70%                              </td><td>France                           </td><td>3.5                              </td><td>                                 </td><td>Togo                             </td></tr>\n",
       "\t<tr><td>A. Morin                         </td><td>Quilla                           </td><td>1704                             </td><td>2015                             </td><td>70%                              </td><td>France                           </td><td>3.5                              </td><td>                                 </td><td>Peru                             </td></tr>\n",
       "</tbody>\n",
       "</table>\n"
      ],
      "text/latex": [
       "\\begin{tabular}{r|lllllllll}\n",
       " Company...Maker.if.known. & Specific.Bean.Origin.or.Bar.Name & REF & Review.Date & Cocoa.Percent & Company.Location & Rating & Bean.Type & Broad.Bean.Origin\\\\\n",
       "\\hline\n",
       "\t (Maker-if known)\"                 & Specific Bean Origin\n",
       "or Bar Name & REF                               & Review\n",
       "Date                      & Cocoa\n",
       "Percent                    & Company\n",
       "Location                 & Rating                            & Bean\n",
       "Type                        & Broad Bean\n",
       "Origin               \\\\\n",
       "\t A. Morin                          & Agua Grande                       & 1876                              & 2016                              & 63\\%                             & France                            & 3.75                              &                                   & Sao Tome                         \\\\\n",
       "\t A. Morin                          & Kpime                             & 1676                              & 2015                              & 70\\%                             & France                            & 2.75                              &                                   & Togo                             \\\\\n",
       "\t A. Morin                          & Atsane                            & 1676                              & 2015                              & 70\\%                             & France                            & 3                                 &                                   & Togo                             \\\\\n",
       "\t A. Morin                          & Akata                             & 1680                              & 2015                              & 70\\%                             & France                            & 3.5                               &                                   & Togo                             \\\\\n",
       "\t A. Morin                          & Quilla                            & 1704                              & 2015                              & 70\\%                             & France                            & 3.5                               &                                   & Peru                             \\\\\n",
       "\\end{tabular}\n"
      ],
      "text/markdown": [
       "\n",
       "Company...Maker.if.known. | Specific.Bean.Origin.or.Bar.Name | REF | Review.Date | Cocoa.Percent | Company.Location | Rating | Bean.Type | Broad.Bean.Origin | \n",
       "|---|---|---|---|---|---|\n",
       "| (Maker-if known)\"                 | Specific Bean Origin\n",
       "or Bar Name | REF                               | Review\n",
       "Date                      | Cocoa\n",
       "Percent                    | Company\n",
       "Location                 | Rating                            | Bean\n",
       "Type                        | Broad Bean\n",
       "Origin                | \n",
       "| A. Morin                          | Agua Grande                       | 1876                              | 2016                              | 63%                               | France                            | 3.75                              |                                   | Sao Tome                          | \n",
       "| A. Morin                          | Kpime                             | 1676                              | 2015                              | 70%                               | France                            | 2.75                              |                                   | Togo                              | \n",
       "| A. Morin                          | Atsane                            | 1676                              | 2015                              | 70%                               | France                            | 3                                 |                                   | Togo                              | \n",
       "| A. Morin                          | Akata                             | 1680                              | 2015                              | 70%                               | France                            | 3.5                               |                                   | Togo                              | \n",
       "| A. Morin                          | Quilla                            | 1704                              | 2015                              | 70%                               | France                            | 3.5                               |                                   | Peru                              | \n",
       "\n",
       "\n"
      ],
      "text/plain": [
       "  Company...Maker.if.known. Specific.Bean.Origin.or.Bar.Name  REF  Review.Date \n",
       "1 (Maker-if known)\"         Specific Bean Origin\\nor Bar Name REF  Review\\nDate\n",
       "2 A. Morin                  Agua Grande                       1876 2016        \n",
       "3 A. Morin                  Kpime                             1676 2015        \n",
       "4 A. Morin                  Atsane                            1676 2015        \n",
       "5 A. Morin                  Akata                             1680 2015        \n",
       "6 A. Morin                  Quilla                            1704 2015        \n",
       "  Cocoa.Percent  Company.Location  Rating Bean.Type  Broad.Bean.Origin \n",
       "1 Cocoa\\nPercent Company\\nLocation Rating Bean\\nType Broad Bean\\nOrigin\n",
       "2 63%            France            3.75              Sao Tome          \n",
       "3 70%            France            2.75              Togo              \n",
       "4 70%            France            3                 Togo              \n",
       "5 70%            France            3.5               Togo              \n",
       "6 70%            France            3.5               Peru              "
      ]
     },
     "metadata": {},
     "output_type": "display_data"
    },
    {
     "data": {
      "text/html": [
       "<table>\n",
       "<thead><tr><th scope=col>Company...Maker.if.known.</th><th scope=col>Specific.Bean.Origin.or.Bar.Name</th><th scope=col>REF</th><th scope=col>Review.Date</th><th scope=col>Cocoa.Percent</th><th scope=col>Company.Location</th><th scope=col>Rating</th><th scope=col>Bean.Type</th><th scope=col>Broad.Bean.Origin</th></tr></thead>\n",
       "<tbody>\n",
       "\t<tr><td>Zotter            </td><td>Kerala State      </td><td>749               </td><td>2011              </td><td>65%               </td><td>Austria           </td><td>3.5               </td><td>Forastero         </td><td>India             </td></tr>\n",
       "\t<tr><td>Zotter            </td><td>Kerala State      </td><td>781               </td><td>2011              </td><td>62%               </td><td>Austria           </td><td>3.25              </td><td>                  </td><td>India             </td></tr>\n",
       "\t<tr><td>Zotter            </td><td>Brazil, Mitzi Blue</td><td>486               </td><td>2010              </td><td>65%               </td><td>Austria           </td><td>3                 </td><td>                  </td><td>Brazil            </td></tr>\n",
       "</tbody>\n",
       "</table>\n"
      ],
      "text/latex": [
       "\\begin{tabular}{r|lllllllll}\n",
       " Company...Maker.if.known. & Specific.Bean.Origin.or.Bar.Name & REF & Review.Date & Cocoa.Percent & Company.Location & Rating & Bean.Type & Broad.Bean.Origin\\\\\n",
       "\\hline\n",
       "\t Zotter             & Kerala State       & 749                & 2011               & 65\\%              & Austria            & 3.5                & Forastero          & India             \\\\\n",
       "\t Zotter             & Kerala State       & 781                & 2011               & 62\\%              & Austria            & 3.25               &                    & India             \\\\\n",
       "\t Zotter             & Brazil, Mitzi Blue & 486                & 2010               & 65\\%              & Austria            & 3                  &                    & Brazil            \\\\\n",
       "\\end{tabular}\n"
      ],
      "text/markdown": [
       "\n",
       "Company...Maker.if.known. | Specific.Bean.Origin.or.Bar.Name | REF | Review.Date | Cocoa.Percent | Company.Location | Rating | Bean.Type | Broad.Bean.Origin | \n",
       "|---|---|---|\n",
       "| Zotter             | Kerala State       | 749                | 2011               | 65%                | Austria            | 3.5                | Forastero          | India              | \n",
       "| Zotter             | Kerala State       | 781                | 2011               | 62%                | Austria            | 3.25               |                    | India              | \n",
       "| Zotter             | Brazil, Mitzi Blue | 486                | 2010               | 65%                | Austria            | 3                  |                    | Brazil             | \n",
       "\n",
       "\n"
      ],
      "text/plain": [
       "  Company...Maker.if.known. Specific.Bean.Origin.or.Bar.Name REF Review.Date\n",
       "1 Zotter                    Kerala State                     749 2011       \n",
       "2 Zotter                    Kerala State                     781 2011       \n",
       "3 Zotter                    Brazil, Mitzi Blue               486 2010       \n",
       "  Cocoa.Percent Company.Location Rating Bean.Type Broad.Bean.Origin\n",
       "1 65%           Austria          3.5    Forastero India            \n",
       "2 62%           Austria          3.25             India            \n",
       "3 65%           Austria          3                Brazil           "
      ]
     },
     "metadata": {},
     "output_type": "display_data"
    }
   ],
   "source": [
    "# the head() function reads just the first few lines of a file. \n",
    "head(chocolateData)\n",
    "\n",
    "# the tail() function reads in the just the last few lines of a file. \n",
    "# we can also give both functions a specific number of lines to read.\n",
    "# This line will read in the last three lines of \"chocolateData\".\n",
    "tail(chocolateData, 3)"
   ]
  },
  {
   "cell_type": "code",
   "execution_count": 5,
   "metadata": {
    "_cell_guid": "bcbda527-f15c-4ed0-b82f-8a9ec1a4557e",
    "_uuid": "6b4bad60d896250123b6985140efc7f9ba5cd2c0",
    "collapsed": true
   },
   "outputs": [],
   "source": [
    "# Your turn!\n",
    "\n",
    "# Get the first four lines of the foodPreferences dataframe you read in earlier\n"
   ]
  },
  {
   "cell_type": "markdown",
   "metadata": {
    "_cell_guid": "4b4d917e-4938-4404-ac90-671a298ac721",
    "_uuid": "fef0a78453749281c885267d68007c8e7342e06a"
   },
   "source": [
    "You'll notice that the data_frame data structure has two dimensions, unlike the vectors we worked with in the \"First Steps\" part of the tutorial. But the secret is that both of these dimensions are actually vectors! This mean that we can access specific cells in our data_frame using the indexes of values we're interested in.\n",
    "\n",
    "A quick refresher on how to acess data by its index: "
   ]
  },
  {
   "cell_type": "code",
   "execution_count": 6,
   "metadata": {
    "_cell_guid": "f8c0303f-13ed-452f-9b84-499f54a23510",
    "_uuid": "67c948e719d8fef52d7c2bb6c0657a748a3c041d",
    "collapsed": true
   },
   "outputs": [
    {
     "data": {
      "text/html": [
       "<ol class=list-inline>\n",
       "\t<li>5</li>\n",
       "\t<li>10</li>\n",
       "\t<li>15</li>\n",
       "</ol>\n"
      ],
      "text/latex": [
       "\\begin{enumerate*}\n",
       "\\item 5\n",
       "\\item 10\n",
       "\\item 15\n",
       "\\end{enumerate*}\n"
      ],
      "text/markdown": [
       "1. 5\n",
       "2. 10\n",
       "3. 15\n",
       "\n",
       "\n"
      ],
      "text/plain": [
       "[1]  5 10 15"
      ]
     },
     "metadata": {},
     "output_type": "display_data"
    },
    {
     "data": {
      "text/html": [
       "5"
      ],
      "text/latex": [
       "5"
      ],
      "text/markdown": [
       "5"
      ],
      "text/plain": [
       "[1] 5"
      ]
     },
     "metadata": {},
     "output_type": "display_data"
    }
   ],
   "source": [
    "# make a little example vector\n",
    "a <- c(5,10,15)\n",
    "\n",
    "# if you ask for something at an index, but don't say which one, you'll get everything\n",
    "a[]\n",
    "\n",
    "# if you ask for a value at a specific index, you'll only get only that value. In R,\n",
    "# indexes start counting from 1 and go up. (So 3 is the third)\n",
    "a[1]"
   ]
  },
  {
   "cell_type": "markdown",
   "metadata": {
    "_cell_guid": "9e30c3db-0af0-4046-b5df-dcc34edfb73a",
    "_uuid": "b3836ba6b2bd158276a40c260a02eda4331258bb"
   },
   "source": [
    "Data_frames work the same way, but you need to specify both the row and column, with a comma between them.\n",
    "\n",
    "> In R, if you ask for something from a two dimensional data structure, you'll always ask for the row first and the column second. So \"dataObject[2,4]\" means \"give me whatever is in the 2nd row and 4th column of the data frame called 'dataObject'\".\n",
    ">\n",
    "> One way to remember this is by thinking of \"RC Cola\". In the brand's name, \"RC\" stands for \"Royal Crown\"... but we can pretend it stands for \"Row Column\".\n",
    "\n",
    "![](https://upload.wikimedia.org/wikipedia/commons/e/e9/Drink_Royal_Crown_Cola.jpg)"
   ]
  },
  {
   "cell_type": "code",
   "execution_count": 7,
   "metadata": {
    "_cell_guid": "1a68e491-f468-4de5-a74e-bfb40f669a60",
    "_uuid": "a41a78a3eee2b034ce782cd80da5b3124b61a927",
    "collapsed": true
   },
   "outputs": [
    {
     "data": {
      "text/html": [
       "<table>\n",
       "<thead><tr><th scope=col>Review.Date</th></tr></thead>\n",
       "<tbody>\n",
       "\t<tr><td>2015</td></tr>\n",
       "</tbody>\n",
       "</table>\n"
      ],
      "text/latex": [
       "\\begin{tabular}{r|l}\n",
       " Review.Date\\\\\n",
       "\\hline\n",
       "\t 2015\\\\\n",
       "\\end{tabular}\n"
      ],
      "text/markdown": [
       "\n",
       "Review.Date | \n",
       "|---|\n",
       "| 2015 | \n",
       "\n",
       "\n"
      ],
      "text/plain": [
       "  Review.Date\n",
       "1 2015       "
      ]
     },
     "metadata": {},
     "output_type": "display_data"
    },
    {
     "data": {
      "text/html": [
       "<table>\n",
       "<thead><tr><th scope=col>Company...Maker.if.known.</th><th scope=col>Specific.Bean.Origin.or.Bar.Name</th><th scope=col>REF</th><th scope=col>Review.Date</th><th scope=col>Cocoa.Percent</th><th scope=col>Company.Location</th><th scope=col>Rating</th><th scope=col>Bean.Type</th><th scope=col>Broad.Bean.Origin</th></tr></thead>\n",
       "<tbody>\n",
       "\t<tr><td>A. Morin</td><td>Quilla  </td><td>1704    </td><td>2015    </td><td>70%     </td><td>France  </td><td>3.5     </td><td>        </td><td>Peru    </td></tr>\n",
       "</tbody>\n",
       "</table>\n"
      ],
      "text/latex": [
       "\\begin{tabular}{r|lllllllll}\n",
       " Company...Maker.if.known. & Specific.Bean.Origin.or.Bar.Name & REF & Review.Date & Cocoa.Percent & Company.Location & Rating & Bean.Type & Broad.Bean.Origin\\\\\n",
       "\\hline\n",
       "\t A. Morin & Quilla   & 1704     & 2015     & 70\\%    & France   & 3.5      &          & Peru    \\\\\n",
       "\\end{tabular}\n"
      ],
      "text/markdown": [
       "\n",
       "Company...Maker.if.known. | Specific.Bean.Origin.or.Bar.Name | REF | Review.Date | Cocoa.Percent | Company.Location | Rating | Bean.Type | Broad.Bean.Origin | \n",
       "|---|\n",
       "| A. Morin | Quilla   | 1704     | 2015     | 70%      | France   | 3.5      |          | Peru     | \n",
       "\n",
       "\n"
      ],
      "text/plain": [
       "  Company...Maker.if.known. Specific.Bean.Origin.or.Bar.Name REF  Review.Date\n",
       "1 A. Morin                  Quilla                           1704 2015       \n",
       "  Cocoa.Percent Company.Location Rating Bean.Type Broad.Bean.Origin\n",
       "1 70%           France           3.5              Peru             "
      ]
     },
     "metadata": {},
     "output_type": "display_data"
    },
    {
     "data": {
      "text/html": [
       "<table>\n",
       "<thead><tr><th scope=col>Company.Location</th></tr></thead>\n",
       "<tbody>\n",
       "\t<tr><td>Company\n",
       "Location</td></tr>\n",
       "\t<tr><td>France           </td></tr>\n",
       "\t<tr><td>France           </td></tr>\n",
       "\t<tr><td>France           </td></tr>\n",
       "\t<tr><td>France           </td></tr>\n",
       "\t<tr><td>France           </td></tr>\n",
       "</tbody>\n",
       "</table>\n"
      ],
      "text/latex": [
       "\\begin{tabular}{r|l}\n",
       " Company.Location\\\\\n",
       "\\hline\n",
       "\t Company\n",
       "Location\\\\\n",
       "\t France           \\\\\n",
       "\t France           \\\\\n",
       "\t France           \\\\\n",
       "\t France           \\\\\n",
       "\t France           \\\\\n",
       "\\end{tabular}\n"
      ],
      "text/markdown": [
       "\n",
       "Company.Location | \n",
       "|---|---|---|---|---|---|\n",
       "| Company\n",
       "Location | \n",
       "| France            | \n",
       "| France            | \n",
       "| France            | \n",
       "| France            | \n",
       "| France            | \n",
       "\n",
       "\n"
      ],
      "text/plain": [
       "  Company.Location \n",
       "1 Company\\nLocation\n",
       "2 France           \n",
       "3 France           \n",
       "4 France           \n",
       "5 France           \n",
       "6 France           "
      ]
     },
     "metadata": {},
     "output_type": "display_data"
    }
   ],
   "source": [
    "# get the contents in the cell in the sixth row and the forth column\n",
    "chocolateData[6,4]\n",
    "\n",
    "# get the contents of every cell in the 6th row (note that you still need the comma!)\n",
    "chocolateData[6,]\n",
    "\n",
    "# if you forget the coulmn, you'll get the 6th *column* instead of the 6th *row*\n",
    "head(chocolateData[6])\n",
    "# I've used \"head\" here because the column is very long and I don't want\n",
    "# to fill up the screen by printing the whole thing out"
   ]
  },
  {
   "cell_type": "code",
   "execution_count": 8,
   "metadata": {
    "_cell_guid": "d99f7bdb-ba65-48d9-b909-6a310d16a79f",
    "_uuid": "2d26906e171275e7d659fae58f9e6250703b85c5",
    "collapsed": true
   },
   "outputs": [],
   "source": [
    "# Your turn!\n",
    "\n",
    "# Get the first row of your \"foodPreferences\" data_frame\n",
    "\n",
    "# Get the value from the cell in the 100th row and 4th column"
   ]
  },
  {
   "cell_type": "markdown",
   "metadata": {
    "_cell_guid": "5d8d7b67-5831-4914-bc75-3e59a81d1b6b",
    "_uuid": "fc5eacb92814a6c451c15884865f428df0684acc"
   },
   "source": [
    "## Remove unwanted data\n"
   ]
  },
  {
   "cell_type": "markdown",
   "metadata": {
    "_cell_guid": "be055462-a712-4583-bf83-a00ba8202574",
    "_uuid": "cfd8da3bea705c0aabba0c0843004b01d931ba30"
   },
   "source": [
    "In addition to using indexes to get certain values, we can also use them to *remove* data we're not interested in. You can do this by putting a minus sign (-) in front of the index you don't want.\n",
    "\n",
    "You may have noticed earlier that the first row of the \"chocolateData\" data_frame is the same as the column names. Let's remove it."
   ]
  },
  {
   "cell_type": "code",
   "execution_count": 9,
   "metadata": {
    "_cell_guid": "79312270-618e-4181-a2ca-da3379ca1a9d",
    "_uuid": "ce61c0c80a3f29662fe568248110a612018f566d",
    "collapsed": true
   },
   "outputs": [
    {
     "data": {
      "text/html": [
       "<table>\n",
       "<thead><tr><th scope=col>Company...Maker.if.known.</th><th scope=col>Specific.Bean.Origin.or.Bar.Name</th><th scope=col>REF</th><th scope=col>Review.Date</th><th scope=col>Cocoa.Percent</th><th scope=col>Company.Location</th><th scope=col>Rating</th><th scope=col>Bean.Type</th><th scope=col>Broad.Bean.Origin</th></tr></thead>\n",
       "<tbody>\n",
       "\t<tr><td>A. Morin   </td><td>Agua Grande</td><td>1876       </td><td>2016       </td><td>63%        </td><td>France     </td><td>3.75       </td><td>           </td><td>Sao Tome   </td></tr>\n",
       "\t<tr><td>A. Morin   </td><td>Kpime      </td><td>1676       </td><td>2015       </td><td>70%        </td><td>France     </td><td>2.75       </td><td>           </td><td>Togo       </td></tr>\n",
       "\t<tr><td>A. Morin   </td><td>Atsane     </td><td>1676       </td><td>2015       </td><td>70%        </td><td>France     </td><td>3          </td><td>           </td><td>Togo       </td></tr>\n",
       "\t<tr><td>A. Morin   </td><td>Akata      </td><td>1680       </td><td>2015       </td><td>70%        </td><td>France     </td><td>3.5        </td><td>           </td><td>Togo       </td></tr>\n",
       "\t<tr><td>A. Morin   </td><td>Quilla     </td><td>1704       </td><td>2015       </td><td>70%        </td><td>France     </td><td>3.5        </td><td>           </td><td>Peru       </td></tr>\n",
       "\t<tr><td>A. Morin   </td><td>Carenero   </td><td>1315       </td><td>2014       </td><td>70%        </td><td>France     </td><td>2.75       </td><td>Criollo    </td><td>Venezuela  </td></tr>\n",
       "</tbody>\n",
       "</table>\n"
      ],
      "text/latex": [
       "\\begin{tabular}{r|lllllllll}\n",
       " Company...Maker.if.known. & Specific.Bean.Origin.or.Bar.Name & REF & Review.Date & Cocoa.Percent & Company.Location & Rating & Bean.Type & Broad.Bean.Origin\\\\\n",
       "\\hline\n",
       "\t A. Morin    & Agua Grande & 1876        & 2016        & 63\\%       & France      & 3.75        &             & Sao Tome   \\\\\n",
       "\t A. Morin    & Kpime       & 1676        & 2015        & 70\\%       & France      & 2.75        &             & Togo       \\\\\n",
       "\t A. Morin    & Atsane      & 1676        & 2015        & 70\\%       & France      & 3           &             & Togo       \\\\\n",
       "\t A. Morin    & Akata       & 1680        & 2015        & 70\\%       & France      & 3.5         &             & Togo       \\\\\n",
       "\t A. Morin    & Quilla      & 1704        & 2015        & 70\\%       & France      & 3.5         &             & Peru       \\\\\n",
       "\t A. Morin    & Carenero    & 1315        & 2014        & 70\\%       & France      & 2.75        & Criollo     & Venezuela  \\\\\n",
       "\\end{tabular}\n"
      ],
      "text/markdown": [
       "\n",
       "Company...Maker.if.known. | Specific.Bean.Origin.or.Bar.Name | REF | Review.Date | Cocoa.Percent | Company.Location | Rating | Bean.Type | Broad.Bean.Origin | \n",
       "|---|---|---|---|---|---|\n",
       "| A. Morin    | Agua Grande | 1876        | 2016        | 63%         | France      | 3.75        |             | Sao Tome    | \n",
       "| A. Morin    | Kpime       | 1676        | 2015        | 70%         | France      | 2.75        |             | Togo        | \n",
       "| A. Morin    | Atsane      | 1676        | 2015        | 70%         | France      | 3           |             | Togo        | \n",
       "| A. Morin    | Akata       | 1680        | 2015        | 70%         | France      | 3.5         |             | Togo        | \n",
       "| A. Morin    | Quilla      | 1704        | 2015        | 70%         | France      | 3.5         |             | Peru        | \n",
       "| A. Morin    | Carenero    | 1315        | 2014        | 70%         | France      | 2.75        | Criollo     | Venezuela   | \n",
       "\n",
       "\n"
      ],
      "text/plain": [
       "  Company...Maker.if.known. Specific.Bean.Origin.or.Bar.Name REF  Review.Date\n",
       "1 A. Morin                  Agua Grande                      1876 2016       \n",
       "2 A. Morin                  Kpime                            1676 2015       \n",
       "3 A. Morin                  Atsane                           1676 2015       \n",
       "4 A. Morin                  Akata                            1680 2015       \n",
       "5 A. Morin                  Quilla                           1704 2015       \n",
       "6 A. Morin                  Carenero                         1315 2014       \n",
       "  Cocoa.Percent Company.Location Rating Bean.Type Broad.Bean.Origin\n",
       "1 63%           France           3.75             Sao Tome         \n",
       "2 70%           France           2.75             Togo             \n",
       "3 70%           France           3                Togo             \n",
       "4 70%           France           3.5              Togo             \n",
       "5 70%           France           3.5              Peru             \n",
       "6 70%           France           2.75   Criollo   Venezuela        "
      ]
     },
     "metadata": {},
     "output_type": "display_data"
    }
   ],
   "source": [
    "# get all rows EXCEPT the first row and all columns of chocolateData\n",
    "# By putting it back in the same variable, we're overwriting what was in \n",
    "# that variable before, so be careful with this!\n",
    "chocolateData <- chocolateData[-1,] \n",
    "\n",
    "# make sure we removed the row we didn't want\n",
    "head(chocolateData)"
   ]
  },
  {
   "cell_type": "code",
   "execution_count": 10,
   "metadata": {
    "_cell_guid": "71a8e3c4-1049-4e9c-8025-c764fbab716c",
    "_uuid": "79aeb9b58fdd4d40e8053857f50e77eb8dae914f",
    "collapsed": true
   },
   "outputs": [],
   "source": [
    "# Your turn!\n",
    "\n",
    "# The 5th column in the \"foodPrefereces\" dataset has a lot of values that aren't \n",
    "# numbers (nan means \"not a number\"). Can you remove the 5th column from the dataset?\n"
   ]
  },
  {
   "cell_type": "markdown",
   "metadata": {
    "_cell_guid": "95d15958-a8b3-43c2-8940-95b0e2271db4",
    "_uuid": "b01695617265d19aeee7393215c45cab50f7ba44"
   },
   "source": [
    "Alright, now that we've read our data into R, checked that it looks alright and gotten rid of a row we didn't want, it's time to get down to doing some analysis. In the next section, we'll learn how to summerize our data and get into some basic statistics!"
   ]
  },
  {
   "cell_type": "markdown",
   "metadata": {
    "_cell_guid": "ddd3caf3-4b6e-43a5-aea3-015ee692fc4b",
    "_uuid": "de957e271c7fa03464825f3d93793caec7042a53"
   },
   "source": [
    "## Next step: [Summarize our data](https://www.kaggle.com/rtatman/getting-started-in-r-summarize-data/)"
   ]
  }
 ],
 "metadata": {
  "kernelspec": {
   "display_name": "R",
   "language": "R",
   "name": "ir"
  },
  "language_info": {
   "codemirror_mode": "r",
   "file_extension": ".r",
   "mimetype": "text/x-r-source",
   "name": "R",
   "pygments_lexer": "r",
   "version": "3.4.1"
  }
 },
 "nbformat": 4,
 "nbformat_minor": 1
}
